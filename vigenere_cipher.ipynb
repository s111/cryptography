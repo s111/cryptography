{
 "cells": [
  {
   "cell_type": "markdown",
   "metadata": {},
   "source": [
    "## Ciphertext"
   ]
  },
  {
   "cell_type": "code",
   "execution_count": 1,
   "metadata": {
    "collapsed": true
   },
   "outputs": [],
   "source": [
    "ciphertext = '''XUMKZIKZISMCLVVKEWIEMGEEVVMYAFIYMIFRSZMITARVKGXRSGWXOITUMXYAGUQTQSHRDKXOTRLGZD YFMJ UN XUM KMRPL BU YIH GEKZTMRBN OERGCXK TS CZUFEGG KUYMIEKOML HVXRAMEGQI MNH ZQRUTEEG IAMQHVOOAXVWT QNMTUG IAW VVBQNXRL HK TLR OKDMEA MTSIRRMX MRXUCX ECLRZHUUW NB ZTE IAL UR WSETJ IAV V MGDLC ZWJQLW JMXQ UWRL IAMQRZIUAPYG GZD EQWVFEH OG SULMGIXK ARQ OUHEVAUKZT WRZBUCIF WL EEZRZGX CSHVZDIIF UUET RBBGNLC AIFU GIEUGZY FRNUDE EAL JGRMAO CARPQ EGD IM FMBQREY LORFIEMTF ERVOSM MSQMRE WIEM VDOHHKKP BYG BNQ GIEUGZ MMYQZMRC ZWJQLW NZK FHI ZWYF CSZUUZLC EMIAGRVAKP HSJMBQR NNXGZEWR ITP IXNTOMN QBLKXS LNDK NEIA CYQD\n",
    "MA CYQ TLR MTUGQN ZKCUMEMJ M LMFB UR DEVTE WEC FMZFIRTA GZD EHFOXIEEG JACYZMTFS XUM VDOGRLADEW SWX SEVZIT ZAZNT KZIKZI CQRI ZWXQ EPNJUDAXR ITP MSEM YQCYEM ZTAR GPUEE MA WZTEV FMXHIGRA TMVC PWJQBSBSY IEVR XXUNXRL OZ RIQ EGFEV-FWRGBPR QTW OR CQTW PECMX EO XUIZ FHIL KUGLH RIYULC OM JQSXEWEQD MS BNQY ARZK QNHNVMQRIQ\n",
    "\n",
    "QT SEVZIT YIPVBGDY TEIIFIGR KUYMYAQIMTMBVY IEVR LOHIHRL OZTS FMVMREGM TQTABZQE EEPP AEIRT LORFIEMTF SIGBOZGW GPKEE GBUSGNMPIZUOR AMZE WIEM ZQRQRL QQYW NB HXEXPPRQY TNZQ MNH JMXQ AWFQMZEH PWJQ NEZMY EUGU IY DEH PPGRFMAKN MNH FPGDK INKN GNMG WVQREGQTS IR N VKFWSES CMS EFAOSNIQ I YQTXVVME LMFB LAR MGA KZIKZI LAR E CMXUOH BN ZUMI SWX M MIFAGSE XB JK OOVEMIFLC RVIDYTGMJ MNH QMIDYTGMJ NOXU AKZDIE ITP RIPMOHEV UIJ FO GBVLUGYEM ZTEME MTUGQN QT FHI FISQ WEL ZUFOV FMRQCXVWT MNH BZJQR WGIXFIRT XUEIXVWT MNH CTASBSNZJ OORAMIFISAA SGSX OM OPERGQIML EYT ZTEWR AKFTMAOY FOKRBNQR XUM QQY MA UUPEVA BKDMW JMXQ EWGIHXIWUMJ NEJBZKTARQ LOETVVJAFEH VV IADIOWUWS\n",
    "\n",
    "XUWASH IAQMYA LNL YAMI PZEBTSTZGBHMP EKMKRRAYQS MA XXMCXVKK UT ANA MQRQNV VDOGRLADAP STGIS SCMXMTSE UOETEXMY RAMYCXQ TS FGYFEQNBOOAPYG OZTVBLAOE GUITSEW VV KZCMCPKDMIAB VDOGRLADEW NVJ MLPVMJ OATGCXQ OJ XME FAFYMY MNH UIXPWEEM ZTAX QCXUNK GPK IAV RVGNLIQ IRXIIQ KXKPXBTUSIWGA ZA SYPKKQD\n",
    "\n",
    "MGQYNEPVMBQDXUIZOREPSOZGIAQMYATBBKZTMNTRKERQMJIWMVBCAYINZYQAVYQKD'''"
   ]
  },
  {
   "cell_type": "markdown",
   "metadata": {},
   "source": [
    "## Clean up ciphertext"
   ]
  },
  {
   "cell_type": "code",
   "execution_count": 2,
   "metadata": {
    "collapsed": false
   },
   "outputs": [],
   "source": [
    "import string\n",
    "\n",
    "ciphertext = ''.join([c for c in ciphertext if c in string.ascii_uppercase])"
   ]
  },
  {
   "cell_type": "markdown",
   "metadata": {},
   "source": [
    "## Try to find keylength\n",
    "Write out the ciphertext n times starting with the 1th, 2th, ..., nth character.\n",
    "```\n",
    "1. X  U  M (K) Z (I)\n",
    "2. U  M  K  Z  I  K\n",
    "3. M  K  Z  I  K  Z\n",
    "4. K  Z  I (K) Z (I)\n",
    "```\n",
    "\n",
    "Now, for every line, count the columns which contains the same character as the first line."
   ]
  },
  {
   "cell_type": "code",
   "execution_count": 3,
   "metadata": {
    "collapsed": false
   },
   "outputs": [],
   "source": [
    "collisions = []\n",
    "\n",
    "for offset in range(1, 100):    \n",
    "    count = sum([ord(ciphertext[i]) - ord(ciphertext[offset:][i]) == 0 for i in range(len(ciphertext) - offset)])\n",
    "    \n",
    "    collisions.append(count)"
   ]
  },
  {
   "cell_type": "markdown",
   "metadata": {},
   "source": [
    "## Visualize collision counts"
   ]
  },
  {
   "cell_type": "code",
   "execution_count": 4,
   "metadata": {
    "collapsed": false
   },
   "outputs": [],
   "source": [
    "%matplotlib inline\n",
    "\n",
    "import matplotlib\n",
    "import matplotlib.pyplot as plt"
   ]
  },
  {
   "cell_type": "code",
   "execution_count": 5,
   "metadata": {
    "collapsed": false
   },
   "outputs": [
    {
     "data": {
      "image/png": "[encoded data removed]",
      "text/plain": [
       "<matplotlib.figure.Figure at 0x7fcdfc254b00>"
      ]
     },
     "metadata": {},
     "output_type": "display_data"
    },
    {
     "data": {
      "image/png": "[encoded data removed]",
      "text/plain": [
       "<matplotlib.figure.Figure at 0x7fcdfa04d9b0>"
      ]
     },
     "metadata": {},
     "output_type": "display_data"
    }
   ],
   "source": [
    "plt.bar(range(len(collisions)), collisions)\n",
    "plt.show()\n",
    "\n",
    "most_often = [0 if count < 80 else count for count in collisions]\n",
    "\n",
    "plt.bar(range(len(most_often)), most_often)\n",
    "plt.show()"
   ]
  },
  {
   "cell_type": "markdown",
   "metadata": {},
   "source": [
    "## How frequently does a large number of collisions occur?\n",
    "We count the peaks and average their distance between eachother."
   ]
  },
  {
   "cell_type": "code",
   "execution_count": 6,
   "metadata": {
    "collapsed": false
   },
   "outputs": [],
   "source": [
    "dists = []\n",
    "last = 0\n",
    "\n",
    "for i in range(len(most_often)):\n",
    "    if most_often[i] >= 80:\n",
    "        dists.append(i - last)\n",
    "        last = i\n",
    "        \n",
    "keylength = round(sum(dists)/len(dists))"
   ]
  },
  {
   "cell_type": "markdown",
   "metadata": {},
   "source": [
    "## The keylength is probably:"
   ]
  },
  {
   "cell_type": "code",
   "execution_count": 7,
   "metadata": {
    "collapsed": false
   },
   "outputs": [
    {
     "data": {
      "text/plain": [
       "6"
      ]
     },
     "execution_count": 7,
     "metadata": {},
     "output_type": "execute_result"
    }
   ],
   "source": [
    "keylength"
   ]
  },
  {
   "cell_type": "markdown",
   "metadata": {},
   "source": [
    "## Every character separated by keylength belongs to the same alphabet"
   ]
  },
  {
   "cell_type": "code",
   "execution_count": 8,
   "metadata": {
    "collapsed": false
   },
   "outputs": [],
   "source": [
    "texts = []\n",
    "\n",
    "for i in range(keylength):\n",
    "    texts.append(ciphertext[i::keylength])"
   ]
  },
  {
   "cell_type": "markdown",
   "metadata": {},
   "source": [
    "## Find the letter frequencies for each text"
   ]
  },
  {
   "cell_type": "code",
   "execution_count": 9,
   "metadata": {
    "collapsed": false
   },
   "outputs": [],
   "source": [
    "from collections import OrderedDict\n",
    "\n",
    "freqs = []\n",
    "\n",
    "for i in range(keylength):\n",
    "    freq = OrderedDict()\n",
    "    \n",
    "    for c in string.ascii_uppercase:\n",
    "        freq[c] = texts[i].count(c)\n",
    "        \n",
    "    freqs.append(freq)"
   ]
  },
  {
   "cell_type": "code",
   "execution_count": 10,
   "metadata": {
    "collapsed": true
   },
   "outputs": [],
   "source": [
    "LEN_ALPHA = len(string.ascii_uppercase)"
   ]
  },
  {
   "cell_type": "markdown",
   "metadata": {},
   "source": [
    "## Visualize letter frequencies"
   ]
  },
  {
   "cell_type": "code",
   "execution_count": 11,
   "metadata": {
    "collapsed": false
   },
   "outputs": [
    {
     "data": {
      "image/png": "[encoded data removed]",
      "text/plain": [
       "<matplotlib.figure.Figure at 0x7fcdfa0f4358>"
      ]
     },
     "metadata": {},
     "output_type": "display_data"
    },
    {
     "data": {
      "image/png": "[encoded data removed]",
      "text/plain": [
       "<matplotlib.figure.Figure at 0x7fcdf9fbdfd0>"
      ]
     },
     "metadata": {},
     "output_type": "display_data"
    },
    {
     "data": {
      "image/png": "[encoded data removed]",
      "text/plain": [
       "<matplotlib.figure.Figure at 0x7fcdf9e57a90>"
      ]
     },
     "metadata": {},
     "output_type": "display_data"
    },
    {
     "data": {
      "image/png": "[encoded data removed]",
      "text/plain": [
       "<matplotlib.figure.Figure at 0x7fcdf9d91c50>"
      ]
     },
     "metadata": {},
     "output_type": "display_data"
    },
    {
     "data": {
      "image/png": "[encoded data removed]",
      "text/plain": [
       "<matplotlib.figure.Figure at 0x7fcdf9cb12e8>"
      ]
     },
     "metadata": {},
     "output_type": "display_data"
    },
    {
     "data": {
      "image/png": "[encoded data removed]",
      "text/plain": [
       "<matplotlib.figure.Figure at 0x7fcdf9d4b710>"
      ]
     },
     "metadata": {},
     "output_type": "display_data"
    }
   ],
   "source": [
    "for i in range(keylength):    \n",
    "    plt.bar(range(LEN_ALPHA), freqs[i].values(), align='center')\n",
    "    plt.xticks(range(LEN_ALPHA), freqs[i].keys())\n",
    "\n",
    "    plt.show()"
   ]
  },
  {
   "cell_type": "markdown",
   "metadata": {},
   "source": [
    "## Calculate the shift of the alphabets\n",
    "We know that the alphabets are just shifted by some number.\n",
    "We assume that the most frequent letter is 'E'."
   ]
  },
  {
   "cell_type": "code",
   "execution_count": 12,
   "metadata": {
    "collapsed": false
   },
   "outputs": [],
   "source": [
    "shifts = [LEN_ALPHA - (ord(max(freqs[i], key=freqs[i].get)) - ord('E')) for i in range(keylength)]"
   ]
  },
  {
   "cell_type": "code",
   "execution_count": 13,
   "metadata": {
    "collapsed": false
   },
   "outputs": [
    {
     "data": {
      "text/plain": [
       "[22, 13, 18, 20, 14, 26]"
      ]
     },
     "execution_count": 13,
     "metadata": {},
     "output_type": "execute_result"
    }
   ],
   "source": [
    "shifts"
   ]
  },
  {
   "cell_type": "code",
   "execution_count": 14,
   "metadata": {
    "collapsed": false
   },
   "outputs": [],
   "source": [
    "def rotate(alpha, shift):\n",
    "    return alpha[shift:] + alpha[:shift]"
   ]
  },
  {
   "cell_type": "markdown",
   "metadata": {},
   "source": [
    "## Create the alphabets needed"
   ]
  },
  {
   "cell_type": "code",
   "execution_count": 15,
   "metadata": {
    "collapsed": false
   },
   "outputs": [
    {
     "data": {
      "text/plain": [
       "['WXYZABCDEFGHIJKLMNOPQRSTUV',\n",
       " 'NOPQRSTUVWXYZABCDEFGHIJKLM',\n",
       " 'STUVWXYZABCDEFGHIJKLMNOPQR',\n",
       " 'UVWXYZABCDEFGHIJKLMNOPQRST',\n",
       " 'OPQRSTUVWXYZABCDEFGHIJKLMN',\n",
       " 'ABCDEFGHIJKLMNOPQRSTUVWXYZ']"
      ]
     },
     "execution_count": 15,
     "metadata": {},
     "output_type": "execute_result"
    }
   ],
   "source": [
    "alphas = [rotate(string.ascii_uppercase, shift) for shift in shifts]\n",
    "alphas"
   ]
  },
  {
   "cell_type": "markdown",
   "metadata": {},
   "source": [
    "## For each character from the ciphertext substitute with the matching alphabet"
   ]
  },
  {
   "cell_type": "code",
   "execution_count": 16,
   "metadata": {
    "collapsed": false
   },
   "outputs": [],
   "source": [
    "current = 0\n",
    "\n",
    "plaintext = \"\"\n",
    "\n",
    "for c in ciphertext:\n",
    "    plaintext += alphas[current][string.ascii_uppercase.find(c)]\n",
    "    current = (current + 1) % keylength"
   ]
  },
  {
   "cell_type": "markdown",
   "metadata": {},
   "source": [
    "## Look at the plaintext\n",
    "If some letters don't seem to match, make manual adjustments to the alphabets."
   ]
  },
  {
   "cell_type": "code",
   "execution_count": 17,
   "metadata": {
    "collapsed": false
   },
   "outputs": [
    {
     "data": {
      "text/plain": [
       "'THEENIGMAMACHINESWEREASERIESOFELECTROMECHANICALROTORCIPHERMACHINESDEVELOPEDANDUSEDINTHEEARLYTOMIDTWENTIETHCENTURYTOPROTECTCOMMERCIALDIPLOMATICANDMILITARYCOMMUNICATIONENIGMAWASINVENTEDBYTHEGERMANENGINEERARTHURSCHERBIUSATTHEENDOFWORLDWARIEARLYMODELSWEREUSEDCOMMERCIALLYANDADOPTEDBYMILITARYANDGOVERNMENTSERVICESOFSEVERALCOUNTRIESMOSTNOTABLYNAZIGERMANYBEFOREANDDURINGWORLDWARIISEVERALDIFFERENTENIGMAMODELSWEREPRODUCEDBUTTHEGERMANMILITARYMODELSARETHEMOSTCOMMONLYRECOGNISEDHOWEVERJAPANESEANDITALIANMODELSHAVEBEENUSEDINUSETHEENIGMAREQUIREDALISTOFDAILYKEYSETTINGSANDAUXILIARYDOCUMENTSTHEPROCEDURESFORGERMANNAVALENIGMAWEREMOREELABORATEANDMORESECURETHANTHOSEINOTHERSERVICESNAVYCODEBOOKSWEREPRINTEDINREDWATERSOLUBLEINKONPINKPAPERSOTHATTHEYCOULDEASILYBEDESTROYEDIFTHEYWEREENDANGEREDINGERMANMILITARYPRACTICECOMMUNICATIONSWEREDIVIDEDINTOSEPARATENETWORKSEACHUSINGDIFFERENTSETTINGSTHESECOMMUNICATIONNETSWERETERMEDKEYSATBLETCHLEYPARKANDWEREASSIGNEDCODENAMESSUCHASREDCHAFFINCHANDSHARKEACHUNITOPERATINGINANETWORKWASASSIGNEDASETTINGSLISTFORITSENIGMAFORAPERIODOFTIMEFORAMESSAGETOBECORRECTLYENCRYPTEDANDDECRYPTEDBOTHSENDERANDRECEIVERHADTOCONFIGURETHEIRENIGMAINTHESAMEWAYROTORSELECTIONANDORDERSTARTINGPOSITIONANDPLUGBOARDCONNECTIONSMUSTBEIDENTICALALLTHESESETTINGSTOGETHERTHEKEYINMODERNTERMSWEREESTABLISHEDBEFOREHANDDISTRIBUTEDINCODEBOOKSTHOUGHENIGMAHADSOMECRYPTOGRAPHICWEAKNESSESINPRACTICEITWASGERMANPROCEDURALFLAWSOPERATORMISTAKESFAILURETOSYSTEMATICALLYINTRODUCECHANGESINENCIPHERMENTPROCEDURESANDALLIEDCAPTUREOFKEYTABLESANDHARDWARETHATDURINGTHEWARENABLEDALLIEDCRYPTOLOGISTSTOSUCCEEDITISBELIEVEDTHATCRACKINGENIGMAPOTENTIALLYENDEDWWIITWOYEARSEARLIER'"
      ]
     },
     "execution_count": 17,
     "metadata": {},
     "output_type": "execute_result"
    }
   ],
   "source": [
    "plaintext"
   ]
  },
  {
   "cell_type": "markdown",
   "metadata": {},
   "source": [
    "## Extract the actual key used\n",
    "Just look at the difference between the first letters of the ciphertext and plaintext."
   ]
  },
  {
   "cell_type": "code",
   "execution_count": 18,
   "metadata": {
    "collapsed": false
   },
   "outputs": [],
   "source": [
    "key = \"\"\n",
    "\n",
    "for i in range(keylength):\n",
    "     key += chr(ord(ciphertext[i]) - ord(plaintext[i]) + ord('A'))"
   ]
  },
  {
   "cell_type": "code",
   "execution_count": 19,
   "metadata": {
    "collapsed": false
   },
   "outputs": [
    {
     "data": {
      "text/plain": [
       "'ENIGMA'"
      ]
     },
     "execution_count": 19,
     "metadata": {},
     "output_type": "execute_result"
    }
   ],
   "source": [
    "key"
   ]
  }
 ],
 "metadata": {
  "kernelspec": {
   "display_name": "Python 3",
   "language": "python",
   "name": "python3"
  },
  "language_info": {
   "codemirror_mode": {
    "name": "ipython",
    "version": 3
   },
   "file_extension": ".py",
   "mimetype": "text/x-python",
   "name": "python",
   "nbconvert_exporter": "python",
   "pygments_lexer": "ipython3",
   "version": "3.5.2"
  }
 },
 "nbformat": 4,
 "nbformat_minor": 1
}
