{
 "cells": [
  {
   "cell_type": "code",
   "execution_count": 1,
   "metadata": {
    "collapsed": false
   },
   "outputs": [],
   "source": [
    "import string"
   ]
  },
  {
   "cell_type": "code",
   "execution_count": 2,
   "metadata": {
    "collapsed": true
   },
   "outputs": [],
   "source": [
    "chipertext = \"ezmpzcyzeezmptedlbfpdetzy\""
   ]
  },
  {
   "cell_type": "code",
   "execution_count": 3,
   "metadata": {
    "collapsed": true
   },
   "outputs": [],
   "source": [
    "def rotate(alpha, shift):\n",
    "    return alpha[shift:] + alpha[:shift]"
   ]
  },
  {
   "cell_type": "markdown",
   "metadata": {},
   "source": [
    "## As there are only 26 possible plaintexts:\n",
    "We try every shift and select the plaintext in english."
   ]
  },
  {
   "cell_type": "code",
   "execution_count": 4,
   "metadata": {
    "collapsed": false
   },
   "outputs": [
    {
     "name": "stdout",
     "output_type": "stream",
     "text": [
      "Key -> 01: fanqadzaffanqufemcgqefuaz\n",
      "\n",
      "Key -> 02: gborbeabggborvgfndhrfgvba\n",
      "\n",
      "Key -> 03: hcpscfbchhcpswhgoeisghwcb\n",
      "\n",
      "Key -> 04: idqtdgcdiidqtxihpfjthixdc\n",
      "\n",
      "Key -> 05: jeruehdejjeruyjiqgkuijyed\n",
      "\n",
      "Key -> 06: kfsvfiefkkfsvzkjrhlvjkzfe\n",
      "\n",
      "Key -> 07: lgtwgjfgllgtwalksimwklagf\n",
      "\n",
      "Key -> 08: mhuxhkghmmhuxbmltjnxlmbhg\n",
      "\n",
      "Key -> 09: nivyilhinnivycnmukoymncih\n",
      "\n",
      "Key -> 10: ojwzjmijoojwzdonvlpznodji\n",
      "\n",
      "Key -> 11: pkxaknjkppkxaepowmqaopekj\n",
      "\n",
      "Key -> 12: qlybloklqqlybfqpxnrbpqflk\n",
      "\n",
      "Key -> 13: rmzcmplmrrmzcgrqyoscqrgml\n",
      "\n",
      "Key -> 14: snadnqmnssnadhsrzptdrshnm\n",
      "\n",
      "Key -> 15: tobeornottobeitsaquestion\n",
      "\n",
      "Key -> 16: upcfpsopuupcfjutbrvftujpo\n",
      "\n",
      "Key -> 17: vqdgqtpqvvqdgkvucswguvkqp\n",
      "\n",
      "Key -> 18: wrehruqrwwrehlwvdtxhvwlrq\n",
      "\n",
      "Key -> 19: xsfisvrsxxsfimxweuyiwxmsr\n",
      "\n",
      "Key -> 20: ytgjtwstyytgjnyxfvzjxynts\n",
      "\n",
      "Key -> 21: zuhkuxtuzzuhkozygwakyzout\n",
      "\n",
      "Key -> 22: avilvyuvaavilpazhxblzapvu\n",
      "\n",
      "Key -> 23: bwjmwzvwbbwjmqbaiycmabqwv\n",
      "\n",
      "Key -> 24: cxknxawxccxknrcbjzdnbcrxw\n",
      "\n",
      "Key -> 25: dyloybxyddylosdckaeocdsyx\n",
      "\n"
     ]
    }
   ],
   "source": [
    "for alpha in [rotate(string.ascii_lowercase, i) for i in range(1, 26)]:\n",
    "    print(\"Key -> {:02d}: {}\\n\".format(26 - alpha.find('a'),\n",
    "                              ''.join([alpha[string.ascii_lowercase.find(i)] for i in chipertext])))"
   ]
  },
  {
   "cell_type": "code",
   "execution_count": null,
   "metadata": {
    "collapsed": true
   },
   "outputs": [],
   "source": []
  }
 ],
 "metadata": {
  "kernelspec": {
   "display_name": "Python 3",
   "language": "python",
   "name": "python3"
  },
  "language_info": {
   "codemirror_mode": {
    "name": "ipython",
    "version": 3
   },
   "file_extension": ".py",
   "mimetype": "text/x-python",
   "name": "python",
   "nbconvert_exporter": "python",
   "pygments_lexer": "ipython3",
   "version": "3.5.2"
  }
 },
 "nbformat": 4,
 "nbformat_minor": 1
}
