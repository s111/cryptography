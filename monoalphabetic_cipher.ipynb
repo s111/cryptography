{
 "cells": [
  {
   "cell_type": "markdown",
   "metadata": {
    "collapsed": false
   },
   "source": [
    "## Ciphertext"
   ]
  },
  {
   "cell_type": "code",
   "execution_count": 1,
   "metadata": {
    "collapsed": false
   },
   "outputs": [],
   "source": [
    "ciphertext = '''Ts Satbesyd Hsewtf fat hf ceqcxf jat qswck I acmt ftepsw atcbp ahw wtkjhsk atb lkptb ckx sjatb kcwt Ik ahf txtf fat tyehuftf ckp ubtpswhkcjtf jat qaset so atb ftv Ij qcf ksj jacj at otej ckx twsjhsk cdhk js esmt osb Ibtkt Apetb Aee twsjhskf ckp jacj skt ucbjhylecbex qtbt crasbbtkj js ahf ysep ubtyhft rlj cpwhbcrex rceckytp whkp Ht qcf I jcdt hj jat wsfj utbotyj btcfskhkg ckp srftbmhkg wcyahkt jacj jat qsbep acf fttk rlj cf c esmtb at qslep acmt uecytp ahwfteo hk c oceft usfhjhsk Ht ktmtb fusdt so jat fsojtb ucffhskf fcmt qhja c ghrt ckp c fkttb Tatx qtbt cpwhbcret jahkgf osb jat srftbmtb—tvyteetkj osb pbcqhkg jat mthe obsw wtkf wsjhmtf ckp cyjhskf Blj osb jat jbchktp btcfsktb js cpwhj flya hkjblfhskf hkjs ahf sqk ptehycjt ckp ohktex cpnlfjtp jtwutbcwtkj qcf js hkjbsplyt c phfjbcyjhkg ocyjsb qahya whgaj jabsq c pslrj lusk cee ahf wtkjce btflejf Gbhj hk c ftkfhjhmt hkfjblwtkj sb c ybcyd hk skt so ahf sqk ahgausqtb etkftf qslep ksj rt wsbt phfjlbrhkg jack c fjbskg twsjhsk hk c kcjlbt flya cf ahf Akp xtj jatbt qcf rlj skt qswck js ahw ckp jacj qswck qcf jat ecjt Ibtkt Apetb so plrhslf ckp iltfjhskcret wtwsbx\n",
    "I acp fttk ehjjet so Hsewtf ecjtex Mx wcbbhcgt acp pbhojtp lf cqcx obsw tcya sjatb Mx sqk yswuetjt acuuhktff ckp jat aswtytkjbtp hkjtbtfjf qahya bhft lu cbslkp jat wck qas ohbfj ohkpf ahwfteo wcfjtb so ahf sqk tfjcrehfawtkj qtbt floohyhtkj js crfsbr cee wx cjjtkjhsk qahet Hsewtf qas escjatp tmtbx osbw so fsyhtjx qhja ahf qaset Bsatwhck fsle btwchktp hk slb espghkgf hk Bcdtb Sjbttj rlbhtp cwskg ahf sep rssdf ckp cejtbkcjhkg obsw qttd js qttd rtjqttk ysychkt ckp cwrhjhsk jat pbsqfhktff so jat pblg ckp jat ohtbyt tktbgx so ahf sqk dttk kcjlbt Ht qcf fjhee cf tmtb pttuex cjjbcyjtp rx jat fjlpx so ybhwt ckp syyluhtp ahf hwwtkft ocylejhtf ckp tvjbcsbphkcbx usqtbf so srftbmcjhsk hk oseesqhkg slj jasft yeltf ckp yetcbhkg lu jasft wxfjtbhtf qahya acp rttk crckpsktp cf asutetff rx jat soohyhce usehyt Fbsw jhwt js jhwt I atcbp fswt mcglt cyyslkj so ahf pshkgf: so ahf flwwskf js Optffc hk jat ycft so jat Tbtusoo wlbptb so ahf yetcbhkg lu so jat fhkglecb jbcgtpx so jat Ajdhkfsk rbsjatbf cj Tbhkyswcett ckp ohkceex so jat whffhsk qahya at acp cyyswuehfatp fs ptehycjtex ckp flyytffoleex osb jat bthgkhkg ocwhex so Hseeckp Btxskp jatft fhgkf so ahf cyjhmhjx asqtmtb qahya I wtbtex facbtp qhja cee jat btcptbf so jat pchex ubtff I dktq ehjjet so wx osbwtb obhtkp ckp yswuckhsk'''"
   ]
  },
  {
   "cell_type": "markdown",
   "metadata": {},
   "source": [
    "## It appears only lowercase letters are encrypted"
   ]
  },
  {
   "cell_type": "code",
   "execution_count": 2,
   "metadata": {
    "collapsed": false
   },
   "outputs": [],
   "source": [
    "import string\n",
    "\n",
    "ciphertext_lower = list(filter(lambda x: x in string.ascii_lowercase, ciphertext))"
   ]
  },
  {
   "cell_type": "markdown",
   "metadata": {},
   "source": [
    "## Calculate the letter frequencies\n",
    "Sort by most frequent."
   ]
  },
  {
   "cell_type": "code",
   "execution_count": 3,
   "metadata": {
    "collapsed": false
   },
   "outputs": [],
   "source": [
    "freq_ciphertext = sorted([(ciphertext_lower.count(c), c) for c in string.ascii_lowercase], reverse = True)"
   ]
  },
  {
   "cell_type": "markdown",
   "metadata": {},
   "source": [
    "## English letter frequencies in the same order"
   ]
  },
  {
   "cell_type": "code",
   "execution_count": 4,
   "metadata": {
    "collapsed": true
   },
   "outputs": [],
   "source": [
    "freq_english = \"etaoinsrhldcumfpgwybvkxjqz\""
   ]
  },
  {
   "cell_type": "markdown",
   "metadata": {},
   "source": [
    "## Secret alphabet so far"
   ]
  },
  {
   "cell_type": "code",
   "execution_count": 5,
   "metadata": {
    "collapsed": false
   },
   "outputs": [
    {
     "name": "stdout",
     "output_type": "stream",
     "text": [
      "etaoinsrhldcumfpgwybvkxjqz\n",
      "tsjckhfbaepwoyqlxrugmdvniz\n"
     ]
    }
   ],
   "source": [
    "secret = ''.join([c[1] for c in freq_ciphertext])\n",
    "print(freq_english)\n",
    "print(secret)"
   ]
  },
  {
   "cell_type": "markdown",
   "metadata": {},
   "source": [
    "## In correct order"
   ]
  },
  {
   "cell_type": "code",
   "execution_count": 6,
   "metadata": {
    "collapsed": false
   },
   "outputs": [
    {
     "name": "stdout",
     "output_type": "stream",
     "text": [
      "abcdefghijklmnopqrstuvwxyz\n",
      "jgwptqxakndeyhclibfsomrvuz\n"
     ]
    }
   ],
   "source": [
    "print(string.ascii_lowercase)\n",
    "print(''.join([x[1] for x in sorted(zip(freq_english, secret))]))"
   ]
  },
  {
   "cell_type": "markdown",
   "metadata": {},
   "source": [
    "## Try to substitue\n",
    "We now try to figure out what the words partly visible should be."
   ]
  },
  {
   "cell_type": "code",
   "execution_count": 7,
   "metadata": {
    "collapsed": false
   },
   "outputs": [
    {
     "name": "stdout",
     "output_type": "stream",
     "text": [
      "Tt Sherltmk Htlces she ns olfogs ahe ftcoi I hove seldtc heord hnc ceianti her pider oig taher ioce Ii hns eges she emlnyses oid yredtcnioaes ahe fhtle tu her sex Ia fos ita ahoa he uela oig ectanti okni at ltve utr Ireie Adler All ectantis oid ahoa tie yoranmplorlg fere owhtrreia at hns mtld yremnse wpa odcnrowlg woloimed cnid He fos I aoke na ahe ctsa yeruema reostinib oid twservnib comhnie ahoa ahe ftrld hos seei wpa os o ltver he ftpld hove ylomed hncselu ni o uolse ytsnanti He iever sytke tu ahe stuaer yossntis sove fnah o bnwe oid o sieer Theg fere odcnrowle ahnibs utr ahe twserverzexmelleia utr drofnib ahe venl urtc ceis ctanves oid omantis Bpa utr ahe aronied reostier at odcna spmh niarpsntis niat hns tfi delnmoae oid unielg odjpsaed aecyeroceia fos at niartdpme o dnsaromanib uomatr fhnmh cnbha ahrtf o dtpwa pyti oll hns ceiaol resplas Grna ni o seisnanve nisarpceia tr o mromk ni tie tu hns tfi hnbhytfer leises ftpld ita we ctre dnsaprwnib ahoi o sartib ectanti ni o ioapre spmh os hns Aid gea ahere fos wpa tie ftcoi at hnc oid ahoa ftcoi fos ahe loae Ireie Adler tu dpwntps oid qpesantiowle cectrgzI hod seei lnaale tu Htlces loaelg Mg corrnobe hod drnuaed ps ofog urtc eomh taher Mg tfi mtcyleae hoyyniess oid ahe htcemeiared niaeresas fhnmh rnse py ortpid ahe coi fht unrsa unids hncselu cosaer tu hns tfi esaowlnshceia fere spuunmneia at owstrw oll cg oaaeianti fhnle Htlces fht ltoahed everg utrc tu stmneag fnah hns fhtle Bthecnoi stpl reconied ni tpr ltdbnibs ni Boker Sareea wprned octib hns tld wttks oid olaerioanib urtc feek at feek weafeei mtmonie oid ocwnanti ahe drtfsniess tu ahe drpb oid ahe unerme eierbg tu hns tfi keei ioapre He fos sanll os ever deeylg oaaromaed wg ahe sapdg tu mrnce oid tmmpyned hns ncceise uomplanes oid exarotrdniorg ytfers tu twservoanti ni utlltfnib tpa ahtse mlpes oid mleornib py ahtse cgsaernes fhnmh hod weei owoidtied os htyeless wg ahe tuunmnol ytlnme Frtc ance at ance I heord stce vobpe ommtpia tu hns dtnibsz tu hns spcctis at Odesso ni ahe mose tu ahe Treytuu cprder tu hns mleornib py tu ahe snibplor arobedg tu ahe Aaknisti wrtahers oa Trnimtcolee oid uniollg tu ahe cnssnti fhnmh he hod ommtcylnshed st delnmoaelg oid spmmessupllg utr ahe renbinib uocnlg tu Htlloid Begtid ahese snbis tu hns omanvnag htfever fhnmh I cerelg shored fnah oll ahe reoders tu ahe donlg yress I kief lnaale tu cg utrcer urneid oid mtcyointi\n"
     ]
    }
   ],
   "source": [
    "print(''.join([i if i in string.ascii_uppercase or i == ' ' else freq_english[secret.find(i)] for i in ciphertext]))"
   ]
  },
  {
   "cell_type": "markdown",
   "metadata": {},
   "source": [
    "# Apply the necessary corrections\n",
    "Look at the plaintext, then find the corresponding ciphertext character and specify the correct meaning."
   ]
  },
  {
   "cell_type": "code",
   "execution_count": 8,
   "metadata": {
    "collapsed": false
   },
   "outputs": [],
   "source": [
    "correction = list(secret)\n",
    "\n",
    "def swap(cipherchar, meaning):\n",
    "    mpos = freq_english.find(meaning)\n",
    "    cpos = ''.join(correction).find(cipherchar)\n",
    "    \n",
    "    tmp = correction[mpos]\n",
    "    \n",
    "    correction[mpos] = correction[cpos]    \n",
    "    correction[cpos] = tmp\n",
    "\n",
    "swap('s', 'o')\n",
    "swap('y', 'c')\n",
    "swap('h', 'i')\n",
    "swap('c', 'a')\n",
    "swap('q', 'w')\n",
    "swap('x', 'y')\n",
    "swap('l', 'u')\n",
    "swap('o', 'f')\n",
    "swap('u', 'p')\n",
    "swap('r', 'b')\n",
    "\n",
    "correction = ''.join(correction)"
   ]
  },
  {
   "cell_type": "markdown",
   "metadata": {},
   "source": [
    "## Ciphertext and plaintext column wise\n",
    "For easy spotting of the characters that are decrypted wrong."
   ]
  },
  {
   "cell_type": "code",
   "execution_count": 9,
   "metadata": {
    "collapsed": false
   },
   "outputs": [
    {
     "data": {
      "text/plain": [
       "[('T', 'S'),\n",
       " ('s', 'h'),\n",
       " (' ', 'e'),\n",
       " ('S', 'r'),\n",
       " ('a', 'l'),\n",
       " ('t', 'o'),\n",
       " ('b', 'c'),\n",
       " ('e', 'k'),\n",
       " ('s', ' '),\n",
       " ('y', 'H'),\n",
       " ('d', 'o'),\n",
       " (' ', 'l'),\n",
       " ('H', 'm'),\n",
       " ('s', 'e'),\n",
       " ('e', 's'),\n",
       " ('w', ' '),\n",
       " ('t', 's'),\n",
       " ('f', 'h'),\n",
       " (' ', 'e'),\n",
       " ('f', ' '),\n",
       " ('a', 'i'),\n",
       " ('t', 's'),\n",
       " (' ', ' '),\n",
       " ('h', 'a'),\n",
       " ('f', 'l'),\n",
       " (' ', 'w'),\n",
       " ('c', 'a'),\n",
       " ('e', 'y'),\n",
       " ('q', 's')]"
      ]
     },
     "execution_count": 9,
     "metadata": {},
     "output_type": "execute_result"
    }
   ],
   "source": [
    "start = 3\n",
    "rows = 32\n",
    "\n",
    "decrypted = [i if i in string.ascii_uppercase or i == ' ' else freq_english[correction.find(i)] for i in ciphertext[start:rows]]\n",
    "\n",
    "list(zip(ciphertext, ''.join(decrypted)))"
   ]
  },
  {
   "cell_type": "markdown",
   "metadata": {},
   "source": [
    "## Try decrypting the whole ciphertext"
   ]
  },
  {
   "cell_type": "code",
   "execution_count": 10,
   "metadata": {
    "collapsed": false
   },
   "outputs": [
    {
     "data": {
      "text/plain": [
       "'To Sherlock Holmes she is always the woman I have seldom heard him mention her under any other name In his eyes she eclipses and predominates the whole of her sex It was not that he felt any emotion akin to love for Irene Adler All emotions and that one particularly were abhorrent to his cold precise but admirably balanced mind He was I take it the most perfect reasoning and observing machine that the world has seen but as a lover he would have placed himself in a false position He never spoke of the softer passions save with a gibe and a sneer They were admirable things for the observerzexcellent for drawing the veil from mens motives and actions But for the trained reasoner to admit such intrusions into his own delicate and finely adjusted temperament was to introduce a distracting factor which might throw a doubt upon all his mental results Grit in a sensitive instrument or a crack in one of his own highpower lenses would not be more disturbing than a strong emotion in a nature such as his And yet there was but one woman to him and that woman was the late Irene Adler of dubious and questionable memoryzI had seen little of Holmes lately My marriage had drifted us away from each other My own complete happiness and the homecentred interests which rise up around the man who first finds himself master of his own establishment were sufficient to absorb all my attention while Holmes who loathed every form of society with his whole Bohemian soul remained in our lodgings in Baker Street buried among his old books and alternating from week to week between cocaine and ambition the drowsiness of the drug and the fierce energy of his own keen nature He was still as ever deeply attracted by the study of crime and occupied his immense faculties and extraordinary powers of observation in following out those clues and clearing up those mysteries which had been abandoned as hopeless by the official police From time to time I heard some vague account of his doingsz of his summons to Odessa in the case of the Trepoff murder of his clearing up of the singular tragedy of the Atkinson brothers at Trincomalee and finally of the mission which he had accomplished so delicately and successfully for the reigning family of Holland Beyond these signs of his activity however which I merely shared with all the readers of the daily press I knew little of my former friend and companion'"
      ]
     },
     "execution_count": 10,
     "metadata": {},
     "output_type": "execute_result"
    }
   ],
   "source": [
    "''.join([c if c in string.ascii_uppercase or c == ' ' else freq_english[correction.find(c)] for c in ciphertext])"
   ]
  },
  {
   "cell_type": "markdown",
   "metadata": {},
   "source": [
    "## Corrected secret in order"
   ]
  },
  {
   "cell_type": "code",
   "execution_count": 11,
   "metadata": {
    "collapsed": false
   },
   "outputs": [
    {
     "name": "stdout",
     "output_type": "stream",
     "text": [
      "abcdefghijklmnopqrstuvwxyz\n",
      "cryptogahndewksuibfjlmqvxz\n"
     ]
    }
   ],
   "source": [
    "print(string.ascii_lowercase)\n",
    "print(''.join([c[1] for c in sorted(zip(freq_english, correction))]))"
   ]
  },
  {
   "cell_type": "code",
   "execution_count": null,
   "metadata": {
    "collapsed": true
   },
   "outputs": [],
   "source": []
  }
 ],
 "metadata": {
  "kernelspec": {
   "display_name": "Python 3",
   "language": "python",
   "name": "python3"
  },
  "language_info": {
   "codemirror_mode": {
    "name": "ipython",
    "version": 3
   },
   "file_extension": ".py",
   "mimetype": "text/x-python",
   "name": "python",
   "nbconvert_exporter": "python",
   "pygments_lexer": "ipython3",
   "version": "3.5.2"
  }
 },
 "nbformat": 4,
 "nbformat_minor": 1
}
