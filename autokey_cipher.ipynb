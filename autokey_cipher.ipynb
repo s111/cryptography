{
 "cells": [
  {
   "cell_type": "markdown",
   "metadata": {},
   "source": [
    "## Function that returns shifted alphabet"
   ]
  },
  {
   "cell_type": "code",
   "execution_count": 1,
   "metadata": {
    "collapsed": false
   },
   "outputs": [],
   "source": [
    "import string\n",
    "\n",
    "def alphabet(shift):\n",
    "    return string.ascii_uppercase[shift:] + string.ascii_uppercase[:shift]"
   ]
  },
  {
   "cell_type": "code",
   "execution_count": 2,
   "metadata": {
    "collapsed": true
   },
   "outputs": [],
   "source": [
    "alphabets = [alphabet(shift) for shift in range(len(string.ascii_uppercase))]"
   ]
  },
  {
   "cell_type": "markdown",
   "metadata": {},
   "source": [
    "## Function for encrypting plaintext using autokey cipher"
   ]
  },
  {
   "cell_type": "code",
   "execution_count": 3,
   "metadata": {
    "collapsed": true
   },
   "outputs": [],
   "source": [
    "def encipher(plaintext, key):\n",
    "    ciphertext = ''\n",
    "        \n",
    "    for i in range(len(plaintext)):\n",
    "        if i >= len(key):\n",
    "            key += plaintext[i - len(key)]\n",
    "\n",
    "        shift = ord(key[i]) - ord('A')\n",
    "        letter = ord(plaintext[i]) - ord('A')\n",
    "\n",
    "        ciphertext += alphabets[shift][letter]\n",
    "\n",
    "    return ciphertext"
   ]
  },
  {
   "cell_type": "markdown",
   "metadata": {},
   "source": [
    "## Guess the keylength\n",
    "We know that the keylength is at most 6 in length.  \n",
    "We start with 6 and decrement it if our plaintext don't make sense."
   ]
  },
  {
   "cell_type": "code",
   "execution_count": 4,
   "metadata": {
    "collapsed": true
   },
   "outputs": [],
   "source": [
    "keylength = 6"
   ]
  },
  {
   "cell_type": "markdown",
   "metadata": {},
   "source": [
    "## Clean up the ciphertext\n",
    "We remove spaces.  \n",
    "As spaces were removed before encrypting and then reinserted, this should have no effect on the analysis."
   ]
  },
  {
   "cell_type": "code",
   "execution_count": 5,
   "metadata": {
    "collapsed": false
   },
   "outputs": [],
   "source": [
    "ciphertext = '''FRRUU OIIYE AMIRN QLQVR BOKGK NSNQQ IUTTY\n",
    "IIYEA WIJTG LVILA ZWZKT ZCJQH IFNYI WQZXH\n",
    "RWZQW OHUTI KWNNQ YDLKA EOTUV XELMT SOSIX\n",
    "JSKPR BUXTI TBUXV BLNSX FJKNC HBLUK PDGUI\n",
    "IYEAM OJCXW FMJVM MAXYT XFLOL RRLAA JZAXT\n",
    "YYWFY NBIVH VYQIO SLPXH ZGYLH WGFSX LPSND\n",
    "UKVTR XPKSS VKOWM QKVCR TUUPR WQMWY XTYLQ\n",
    "XYYTR TJJGO OLMXV CPPSL KBSEI PMEGC RWZRI\n",
    "YDBGE BTMFP ZXVMF MGPVO OKZXX IGGFE SIBRX\n",
    "SEWTY OOOKS PKYFC ZIEYF DAXKG ARBIW KFWUA\n",
    "SLGLF NMIVH VVPTY IJNSX FJKNC HBLUK PDGUI\n",
    "IYEAM HVFDY CULJS EHHMX LRXBN OLVMR'''\n",
    "\n",
    "ciphertext = ''.join(ciphertext.split())"
   ]
  },
  {
   "cell_type": "markdown",
   "metadata": {},
   "source": [
    "## Import English word list\n",
    "Filter out words that are not long enough to enchiper itself.  \n",
    "Meaning words that are longer than the key length.  \n",
    "We also want at least 3 letters enciphered to reduce false-positives."
   ]
  },
  {
   "cell_type": "code",
   "execution_count": 6,
   "metadata": {
    "collapsed": false
   },
   "outputs": [],
   "source": [
    "from nltk.corpus import words\n",
    "\n",
    "at_least_match = 3\n",
    "\n",
    "long_enough = map(lambda w: w.upper(), filter(lambda w: len(w) >= keylength + at_least_match, words.words()))"
   ]
  },
  {
   "cell_type": "markdown",
   "metadata": {},
   "source": [
    "## Encipher the remaining words\n",
    "We now got stubs of text that would occur in the ciphertext, if a word from the list were enciphered with the given keylength.  \n",
    "We also save the length of the smallest and largest stub. This is so we have a bound on the stubs we care about in the ciphertext."
   ]
  },
  {
   "cell_type": "code",
   "execution_count": 7,
   "metadata": {
    "collapsed": false
   },
   "outputs": [],
   "source": [
    "stubs = {}\n",
    "\n",
    "min_stub = len(ciphertext)\n",
    "max_stub = 0\n",
    "\n",
    "for word in long_enough:\n",
    "    key = word[:keylength]\n",
    "    plaintext = word[keylength:]\n",
    "    \n",
    "    stub = encipher(plaintext, key)\n",
    "    \n",
    "    stub_len = len(stub)\n",
    "    \n",
    "    if stub_len > max_stub:\n",
    "        max_stub = stub_len\n",
    "        \n",
    "    if stub_len < min_stub:\n",
    "        min_stub = stub_len\n",
    "    \n",
    "    stubs[stub] = word"
   ]
  },
  {
   "cell_type": "markdown",
   "metadata": {},
   "source": [
    "## Generate a list of stubs from the ciphertext\n",
    "For each stub we save were it occured. This is so we can go back and try to decrypt the ciphertext from that position.  \n",
    "We can also specify a lower cut. This is just to speed up finding the key as larger words will reveal more of the plaintext.  \n",
    "We might have to lower this limit if we don't find a matching key."
   ]
  },
  {
   "cell_type": "code",
   "execution_count": 8,
   "metadata": {
    "collapsed": false
   },
   "outputs": [],
   "source": [
    "stubs_in_cipher = []\n",
    "stub_start = []\n",
    "\n",
    "lower_cut = min_stub + 2\n",
    "\n",
    "for end in range(lower_cut, max_stub):\n",
    "    for start in range(len(ciphertext)):\n",
    "        stubs_in_cipher.append(ciphertext[start:start+end])\n",
    "        stub_start.append(start)"
   ]
  },
  {
   "cell_type": "markdown",
   "metadata": {},
   "source": [
    "## Find the intersection of the stubs from the English word list and ciphertext\n",
    "If we get a match, it means that the word was probably in the plaintext.  "
   ]
  },
  {
   "cell_type": "code",
   "execution_count": 9,
   "metadata": {
    "collapsed": false
   },
   "outputs": [
    {
     "name": "stdout",
     "output_type": "stream",
     "text": [
      "Words probably in plaintext:\n"
     ]
    },
    {
     "data": {
      "text/plain": [
       "['FACETIOUSLY',\n",
       " 'CRYPTOGRAPH',\n",
       " 'CRYPTOGRAPHY',\n",
       " 'TECHNOLOGUE',\n",
       " 'APPROPRIATE',\n",
       " 'SEPHARDIC',\n",
       " 'CRYPTOGRAPHIC']"
      ]
     },
     "execution_count": 9,
     "metadata": {},
     "output_type": "execute_result"
    }
   ],
   "source": [
    "intersection = []\n",
    "\n",
    "for stub in stubs_in_cipher:\n",
    "    if stub in stubs:\n",
    "        word = stubs[stub]\n",
    "        intersection.append((word, stub_start[stubs_in_cipher.index(stub)]))\n",
    "        \n",
    "intersection = set(intersection)\n",
    "\n",
    "print(\"Words probably in plaintext:\")\n",
    "[word for word, _ in intersection]"
   ]
  },
  {
   "cell_type": "markdown",
   "metadata": {},
   "source": [
    "## Function for deciphering ciphertext using autokey cipher"
   ]
  },
  {
   "cell_type": "code",
   "execution_count": 10,
   "metadata": {
    "collapsed": true
   },
   "outputs": [],
   "source": [
    "def decipher(ciphertext, key):\n",
    "    plaintext = ''\n",
    "    estimated_keylength = len(key)\n",
    "        \n",
    "    for i in range(len(ciphertext)):\n",
    "        if i >= len(key):\n",
    "            key += plaintext[i - estimated_keylength]\n",
    "\n",
    "        shift = -abs(ord(key[i]) - ord('A')) % 26\n",
    "        letter = ord(ciphertext[i]) - ord('A')\n",
    "\n",
    "        plaintext += alphabets[shift][letter]\n",
    "\n",
    "    return plaintext"
   ]
  },
  {
   "cell_type": "markdown",
   "metadata": {},
   "source": [
    "## Function for deciphering backwards to resolve the key used"
   ]
  },
  {
   "cell_type": "code",
   "execution_count": 11,
   "metadata": {
    "collapsed": true
   },
   "outputs": [],
   "source": [
    "def resolve_key(ciphertext, key):\n",
    "    return decipher(ciphertext[::-1], key[::-1])[::-1][:len(key)]"
   ]
  },
  {
   "cell_type": "markdown",
   "metadata": {},
   "source": [
    "## Move backwards and resolve the key used\n",
    "If the word is in fact in the plaintext, we can move backwards deciphering one keylength at the time until we get the key used.  \n",
    "We count the number of times a word gives us the same key. The key with the highest count is the most probable.  \n",
    "We can then inspect the whole plaintext we get from using the key found."
   ]
  },
  {
   "cell_type": "code",
   "execution_count": 12,
   "metadata": {
    "collapsed": false
   },
   "outputs": [
    {
     "name": "stdout",
     "output_type": "stream",
     "text": [
      "Most probable key: DATFBA with 4 occurences\n",
      "\n",
      "CRYPTOGRAPHYCANBESTRONGORWEAKCRYPTOGRAPHICSTRENGTHISMEASUREDINTHETIMEANDRESOURCESITWOULDREQUIRETORECOVERTHEPLAINTEXTTHERESULTOFSTRONGCRYPTOGRAPHYISCIPHERTEXTTHATISVERYDIFFICULTTODECIPHERWITHOUTPOSSESSIONOFTHEAPPROPRIATEDECODINGTOOLHOWDIFFICULTGIVENALLOFTODAYSCOMPUTINGPOWERANDAVAILABLETIMEEVENABILLIONCOMPUTERSDOINGABILLIONCHECKSASECONDITISNOTPOSSIBLETODECIPHERTHERESULTOFSTRONGCRYPTOGRAPHYBEFORETHEENDOFTHEUNIVERSE\n"
     ]
    }
   ],
   "source": [
    "keys = {}\n",
    "\n",
    "for word, start in intersection:\n",
    "    key = word[:keylength]\n",
    "    ciphertext_offset = ciphertext[:start]\n",
    "\n",
    "    start_key = resolve_key(ciphertext_offset, key)\n",
    "    possible_key = start_key + 'A'*(keylength-len(start_key))\n",
    "\n",
    "    if possible_key not in keys:\n",
    "        keys[possible_key] = 0\n",
    "    \n",
    "    keys[possible_key] += 1\n",
    "    \n",
    "most_probable_key = max(keys, key=keys.get)\n",
    "plaintext = decipher(ciphertext, most_probable_key)\n",
    "\n",
    "print('Most probable key:', most_probable_key, 'with', keys[most_probable_key], 'occurences')\n",
    "print()\n",
    "print(plaintext)"
   ]
  },
  {
   "cell_type": "markdown",
   "metadata": {},
   "source": [
    "## Inspect all the keys found"
   ]
  },
  {
   "cell_type": "code",
   "execution_count": 13,
   "metadata": {
    "collapsed": false
   },
   "outputs": [
    {
     "name": "stdout",
     "output_type": "stream",
     "text": [
      "With key: YGQSXL\n",
      "\n",
      "HLBCXDBXXCDJHUQOIHOXLACZWQHNORMEMGKRWUSUMRNZORJRYBLFQTVYREAONHWUIIDSBNJOWYVBYGXKPVPHTOOQVTLAFEAETLHPSKZXQUAAQULAXTSZQUACJMXYXDAYQEKYLWULTIJMONLSDCVPMECKOGAIYNKNXXNBBEUONZIVGJGZQBZPHCSUIGROQUKFYJRFWTNYFBJZKNKREEKXLCNTFNHQIRJJFACETIOUSLYOCSENZFWTMKZTXYHZKNRQENNILZLFYCQTTDRKONJOFPDVPPWRBGEXJYYRRPWOIYEZSWRZTJOKOFZZNHJNFXGRFBJNMYFXWPNKZBJONNLFRDOVLFOTGFHGSSZIFCDPWNKRVTNAIGKQXNUBRVXXVCPZLLDCLNWKCBNPYBHRRSJLQUAFSCYRVHZ\n",
      "\n",
      "\n",
      "With key: DATFBA\n",
      "\n",
      "CRYPTOGRAPHYCANBESTRONGORWEAKCRYPTOGRAPHICSTRENGTHISMEASUREDINTHETIMEANDRESOURCESITWOULDREQUIRETORECOVERTHEPLAINTEXTTHERESULTOFSTRONGCRYPTOGRAPHYISCIPHERTEXTTHATISVERYDIFFICULTTODECIPHERWITHOUTPOSSESSIONOFTHEAPPROPRIATEDECODINGTOOLHOWDIFFICULTGIVENALLOFTODAYSCOMPUTINGPOWERANDAVAILABLETIMEEVENABILLIONCOMPUTERSDOINGABILLIONCHECKSASECONDITISNOTPOSSIBLETODECIPHERTHERESULTOFSTRONGCRYPTOGRAPHYBEFORETHEENDOFTHEUNIVERSE\n",
      "\n",
      "\n",
      "With key: RJQYMS\n",
      "\n",
      "OIBWIWUAXISQORQITAHALGRGDNHHZKFHMMZYDRSOXKGCOXYYFYLZBMOBRKPVUEWOTBWVBTYVDVVVJZQNPBEOALOKGMEDFKPLAIHJDDSAQAPHXRLUIMLCQAPJQJXSIWTBQKZFSTUFEBCPOTAZKZVJXXVNOMPPFKKHIQGEBKJVUWIPRCZCQHOWOZSOTZKRQAZMFGRZHMGBFHYGRKKLPXDALICAMKHKTKCMFGRLAFOODERRCYTUGCWNXDSWXEWGRKRKPGGLLFAMFZQNEWKNOTYVMMDPAIPUBMTEQVYLCIPRIETGZTRTECHNOLOGUEJHQQZUFHYUTVFRHIGNZHYVUKLZCWHYLLDANCHADLSLFISWDKKLGMGDIMZXEKUVCOQAVIEGSIDWWGPNCHCWFYHLCLCOQAPMZZYLGAS\n",
      "\n",
      "\n",
      "With key: BBOSPK\n",
      "\n",
      "EQDCFEESVCVIEZSOQIRSJAUYTVJNWSPZKGCQTZUUUSQUMRBQVGNFYUYTPESNKMYUQJGNZNBNTDXBGHAFNVHGQTQQDUOVDESDQQJPALCSOUSZNZNAFUVUOUSBGRZYFEDTOECXIBWLBJMHMNDRAHXPUFFFMGSHVSMNFYQWZEMNKEKVOKJUOBROEHUUQHUJOUCEVOTFEUQTDBBYHSMRMFNSJCFSCSJQQSMEDAUDQNQUAMBJASWMWKYTULCOVYZYHSTQMOQDJZDEVHSTBEUFMNBNCUFVXQZMZGWWGDARZQZJGYWYPBTZBKRFMFRYKMLNNYJMDBBMJDHXEQQFXBBNKSNFZERQJFGSDKJGATCDDCVOTSMRDUQVGGCPUSWBZWASTCHYIQFCTOZFABFOVGJRZTMGOUSEPHARDIC\n",
      "\n",
      "\n"
     ]
    }
   ],
   "source": [
    "for key in keys:    \n",
    "    plaintext = decipher(ciphertext, key)\n",
    "    \n",
    "    print('With key:', key)\n",
    "    print()\n",
    "    print(plaintext)\n",
    "    print('\\n')"
   ]
  }
 ],
 "metadata": {
  "kernelspec": {
   "display_name": "Python 3",
   "language": "python",
   "name": "python3"
  },
  "language_info": {
   "codemirror_mode": {
    "name": "ipython",
    "version": 3
   },
   "file_extension": ".py",
   "mimetype": "text/x-python",
   "name": "python",
   "nbconvert_exporter": "python",
   "pygments_lexer": "ipython3",
   "version": "3.5.2"
  }
 },
 "nbformat": 4,
 "nbformat_minor": 1
}
