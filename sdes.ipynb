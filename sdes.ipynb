{
 "cells": [
  {
   "cell_type": "code",
   "execution_count": 1,
   "metadata": {
    "collapsed": false
   },
   "outputs": [],
   "source": [
    "P10 = [3, 5, 2, 7, 4, 10, 1, 9, 8, 6]\n",
    "P8 = [6, 3, 7, 4, 8, 5, 10, 9]"
   ]
  },
  {
   "cell_type": "code",
   "execution_count": 2,
   "metadata": {
    "collapsed": true
   },
   "outputs": [],
   "source": [
    "def gen_subkeys(key):\n",
    "    permuted = [key[i - 1] for i in P10]\n",
    "    \n",
    "    left_shift_1 = permuted[1:5]+permuted[:1]+permuted[6:]+permuted[5:6]\n",
    "    \n",
    "    key_1 = [left_shift_1[i - 1] for i in P8]\n",
    "    \n",
    "    left_shift_2 = left_shift_1[2:5]+left_shift_1[:2]+left_shift_1[7:]+left_shift_1[5:7]\n",
    "    \n",
    "    key_2 = [left_shift_2[i - 1] for i in P8]\n",
    "    \n",
    "    return key_1, key_2"
   ]
  },
  {
   "cell_type": "code",
   "execution_count": 3,
   "metadata": {
    "collapsed": true
   },
   "outputs": [],
   "source": [
    "IP = [2, 6, 3, 1, 4, 8, 5, 7]"
   ]
  },
  {
   "cell_type": "code",
   "execution_count": 4,
   "metadata": {
    "collapsed": false
   },
   "outputs": [],
   "source": [
    "IPI = [4, 1, 3, 5, 7, 2, 8, 6]"
   ]
  },
  {
   "cell_type": "code",
   "execution_count": 5,
   "metadata": {
    "collapsed": true
   },
   "outputs": [],
   "source": [
    "import numpy as np"
   ]
  },
  {
   "cell_type": "code",
   "execution_count": 6,
   "metadata": {
    "collapsed": false
   },
   "outputs": [],
   "source": [
    "S0 = np.array([1, 0, 3, 2, 3, 2, 1, 0, 0, 2, 1, 3, 3, 1, 3, 2]).reshape(4, 4)\n",
    "S1 = np.array([0, 1, 2, 3, 2, 0, 1, 3, 3, 0, 1, 0, 2, 1, 0, 3]).reshape(4, 4)\n",
    "EP = [4, 1, 2, 3, 2, 3, 4, 1]\n",
    "P4 = [2, 4, 3, 1]"
   ]
  },
  {
   "cell_type": "code",
   "execution_count": 7,
   "metadata": {
    "collapsed": false
   },
   "outputs": [],
   "source": [
    "def f(text, key):\n",
    "    expansion = [text[4:][i - 1] for i in EP]\n",
    "\n",
    "    add_key = np.logical_xor(np.array(expansion).reshape(2, 4), np.array(key).reshape(2, 4))\n",
    "\n",
    "    s_out_0 = np.binary_repr(S0[2 * add_key[0][0] + add_key[0][3]][2 * add_key[0][1] + add_key[0][2]], width = 2)\n",
    "    s_out_1 = np.binary_repr(S1[2 * add_key[1][0] + add_key[1][3]][2 * add_key[1][1] + add_key[1][2]], width = 2)\n",
    "    \n",
    "    s_out = list(map(int, s_out_0)) + list(map(int, s_out_1))\n",
    "    \n",
    "    return np.concatenate((np.logical_xor(text[:4], [s_out[i - 1] for i in P4]), text[4:]))"
   ]
  },
  {
   "cell_type": "code",
   "execution_count": 8,
   "metadata": {
    "collapsed": false
   },
   "outputs": [],
   "source": [
    "def des(text, key_1, key_2):    \n",
    "    permuted = [text[i - 1] for i in IP]\n",
    "    \n",
    "    f_1 = f(permuted, key_1)\n",
    "    f_2 = f(np.concatenate((f_1[4:], f_1[:4])), key_2)\n",
    "    \n",
    "    return [f_2[i - 1] for i in IPI]"
   ]
  },
  {
   "cell_type": "code",
   "execution_count": 9,
   "metadata": {
    "collapsed": true
   },
   "outputs": [],
   "source": [
    "def encrypt(plaintext, key):\n",
    "    key_1, key_2 = gen_subkeys(key)\n",
    "    \n",
    "    return des(plaintext, key_1, key_2)\n",
    "\n",
    "def decrypt(ciphertext, key):\n",
    "    key_1, key_2 = gen_subkeys(key)\n",
    "    \n",
    "    return des(ciphertext, key_2, key_1)"
   ]
  },
  {
   "cell_type": "code",
   "execution_count": 10,
   "metadata": {
    "collapsed": true
   },
   "outputs": [],
   "source": [
    "def trip_encrypt(plaintext, key_1, key_2):\n",
    "    return encrypt(decrypt(encrypt(plaintext, key_1), key_2), key_1)"
   ]
  },
  {
   "cell_type": "code",
   "execution_count": 11,
   "metadata": {
    "collapsed": true
   },
   "outputs": [],
   "source": [
    "def trip_decrypt(ciphertext, key_1, key_2):\n",
    "    return decrypt(encrypt(decrypt(ciphertext, key_1), key_2), key_1)"
   ]
  },
  {
   "cell_type": "code",
   "execution_count": 12,
   "metadata": {
    "collapsed": false
   },
   "outputs": [],
   "source": [
    "assert gen_subkeys([1, 0, 1, 0, 0, 0, 0, 0, 1, 0]) == ([1, 0, 1, 0, 0, 1, 0, 0], [0, 1, 0, 0, 0, 0, 1, 1])"
   ]
  },
  {
   "cell_type": "code",
   "execution_count": 13,
   "metadata": {
    "collapsed": false
   },
   "outputs": [],
   "source": [
    "verification = '''0000000000 10101010 00010001\n",
    "1110001110 10101010 11001010\n",
    "1110001110 01010101 01110000\n",
    "1111111111 10101010 00000100'''.split('\\n')\n",
    "\n",
    "tests = [[list(map(int, t)) for t in test.split()] for test in verification]\n",
    "\n",
    "for key, plaintext, ciphertext in tests:\n",
    "    assert encrypt(plaintext, key) == ciphertext\n",
    "    assert decrypt(ciphertext, key) == plaintext"
   ]
  },
  {
   "cell_type": "code",
   "execution_count": 14,
   "metadata": {
    "collapsed": true
   },
   "outputs": [],
   "source": [
    "cxt_1 = '''010001110000000101000000110011011100101100000001011101000000000101101110010101110101011101101110010001110000000101000111101110100100111110001000010001110110111001001100101011111001011101101110011011101011101001001111101011110000100101001010100010000100111111001101100101110100111100110010000000010101011101101110100100000100111110101111010001111010111101110100011101000000000101001100000000010110111010111010100010000100011101101110010011001010111110010111000000011000100010010000'''"
   ]
  },
  {
   "cell_type": "code",
   "execution_count": 15,
   "metadata": {
    "collapsed": true
   },
   "outputs": [],
   "source": [
    "ctx_2 = '''000000011010011100110010110001100110010010100111110101111010011110011100011101000111010010011100000000011010011100000001100110011010000111011010000000011001110011101111011111100010010010011100100111001001100110100001011111101010000010110011110110101010000111000110001001001010000100100011101001110111010010011100010000011010000101111110000000010111111011010111110101111010011111101111101001111001110010011001110110100000000110011100111011110111111000100100101001111101101001000001'''"
   ]
  },
  {
   "cell_type": "code",
   "execution_count": 16,
   "metadata": {
    "collapsed": false
   },
   "outputs": [],
   "source": [
    "import string\n",
    "\n",
    "found = False\n",
    "found_key = None\n",
    "\n",
    "for key in [list(map(int, np.binary_repr(i, width = 10))) for i in range(1024)]:\n",
    "    if found:\n",
    "        found_key = last_key\n",
    "        \n",
    "        break\n",
    "        \n",
    "    last_key = key\n",
    "    \n",
    "    for block in [list(map(int, cxt_1[i:i + 8])) for i in range(0, len(cxt_1), 8)]:\n",
    "        dec = decrypt(block, key)\n",
    "        \n",
    "        if chr(int(''.join(map(str, dec)), 2)) not in string.printable:\n",
    "            found = False\n",
    "            \n",
    "            break\n",
    "            \n",
    "        found = True"
   ]
  },
  {
   "cell_type": "code",
   "execution_count": 17,
   "metadata": {
    "collapsed": false
   },
   "outputs": [
    {
     "data": {
      "text/plain": [
       "'simplifieddesisnotsecureenoughtoprovideyousufficientsecurity'"
      ]
     },
     "execution_count": 17,
     "metadata": {},
     "output_type": "execute_result"
    }
   ],
   "source": [
    "plaintext = ''\n",
    "\n",
    "for block in [list(map(int, cxt_1[i:i + 8])) for i in range(0, len(cxt_1), 8)]:\n",
    "    plaintext += chr(int(''.join(map(str, decrypt(block, found_key))), 2))\n",
    "\n",
    "plaintext"
   ]
  },
  {
   "cell_type": "code",
   "execution_count": 18,
   "metadata": {
    "collapsed": false
   },
   "outputs": [
    {
     "name": "stdout",
     "output_type": "stream",
     "text": [
      "1 of 128\n",
      "2 of 128\n",
      "3 of 128\n"
     ]
    }
   ],
   "source": [
    "found = False\n",
    "found_key = None\n",
    "\n",
    "p = 0\n",
    "\n",
    "for key in [list(map(int, np.binary_repr(i, width = 20))) for i in range(pow(2, 20), 0, -1)]:\n",
    "    if int(''.join(map(str, key)), 2) % pow(2, 13) == 0:\n",
    "        p += 1\n",
    "        \n",
    "        print(p, \"of\", int(pow(2, 20 - 13)))\n",
    "        \n",
    "    if found:\n",
    "        found_key = last_key\n",
    "        \n",
    "        break\n",
    "        \n",
    "    last_key = key\n",
    "    \n",
    "    for block in [list(map(int, cxt_1[i:i + 8])) for i in range(0, len(cxt_1), 8)]:\n",
    "        dec = trip_decrypt(block, key[:10], key[10:])\n",
    "        \n",
    "        if chr(int(''.join(map(str, dec)), 2)) not in string.printable:\n",
    "            found = False\n",
    "            \n",
    "            break\n",
    "            \n",
    "        found = True"
   ]
  },
  {
   "cell_type": "code",
   "execution_count": 19,
   "metadata": {
    "collapsed": false
   },
   "outputs": [
    {
     "data": {
      "text/plain": [
       "'simplifieddesisnotsecureenoughtoprovideyousufficientsecurity'"
      ]
     },
     "execution_count": 19,
     "metadata": {},
     "output_type": "execute_result"
    }
   ],
   "source": [
    "plaintext = ''\n",
    "\n",
    "for block in [list(map(int, cxt_1[i:i + 8])) for i in range(0, len(cxt_1), 8)]:\n",
    "    plaintext += chr(int(''.join(map(str, trip_decrypt(block, found_key[:10], found_key[10:]))), 2))\n",
    "\n",
    "plaintext"
   ]
  },
  {
   "cell_type": "code",
   "execution_count": null,
   "metadata": {
    "collapsed": true
   },
   "outputs": [],
   "source": []
  }
 ],
 "metadata": {
  "kernelspec": {
   "display_name": "Python 3",
   "language": "python",
   "name": "python3"
  },
  "language_info": {
   "codemirror_mode": {
    "name": "ipython",
    "version": 3
   },
   "file_extension": ".py",
   "mimetype": "text/x-python",
   "name": "python",
   "nbconvert_exporter": "python",
   "pygments_lexer": "ipython3",
   "version": "3.5.2"
  }
 },
 "nbformat": 4,
 "nbformat_minor": 1
}
